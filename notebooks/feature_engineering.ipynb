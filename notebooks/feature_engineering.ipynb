{
 "cells": [
  {
   "cell_type": "code",
   "execution_count": 7,
   "id": "9b007092",
   "metadata": {},
   "outputs": [],
   "source": [
    "from  sklearn.preprocessing import StandardScaler\n",
    "import pandas as pd\n",
    "import pickle\n",
    "\n",
    "df = pd.read_csv(\"../artifacts/cleaned_data.csv\")\n",
    "\n",
    "df = pd.get_dummies(df, columns=['Ethnicity', 'ParentalEducation', 'ParentalSupport'])\n",
    "\n",
    "bool_cols = df.select_dtypes(include='bool').columns\n",
    "df[bool_cols] = df[bool_cols].astype(int)\n",
    "\n",
    "scaler = StandardScaler()\n",
    "num_features = ['Age', 'StudyTimeWeekly', 'Absences']\n",
    "df[num_features] = scaler.fit_transform(df[num_features])\n",
    "\n",
    "# Moves Gradeclass to the end of the dataframe\n",
    "# This is important for the model to work properly\n",
    "grade = df.pop('GradeClass')\n",
    "df['GradeClass'] = grade\n",
    "\n",
    "# Save the scaler\n",
    "with open(\"../src/scaler_test.pkl\", \"wb\") as f:\n",
    "    pickle.dump(scaler, f)\n",
    "\n",
    "# Save engineered dataset\n",
    "with open(\"../artifacts/engineered_data.csv\", \"w\") as f:\n",
    "    df.to_csv(f, index=False)"
   ]
  }
 ],
 "metadata": {
  "kernelspec": {
   "display_name": "base",
   "language": "python",
   "name": "python3"
  },
  "language_info": {
   "codemirror_mode": {
    "name": "ipython",
    "version": 3
   },
   "file_extension": ".py",
   "mimetype": "text/x-python",
   "name": "python",
   "nbconvert_exporter": "python",
   "pygments_lexer": "ipython3",
   "version": "3.12.7"
  }
 },
 "nbformat": 4,
 "nbformat_minor": 5
}
