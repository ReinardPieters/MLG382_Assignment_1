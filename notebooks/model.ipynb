{
 "cells": [
  {
   "cell_type": "code",
   "execution_count": 9,
   "id": "2821785d",
   "metadata": {},
   "outputs": [
    {
     "name": "stdout",
     "output_type": "stream",
     "text": [
      "Total number of input features: 2392\n",
      "The model input features:\n",
      "\n",
      "['Age', 'Gender', 'StudyTimeWeekly', 'Absences', 'Tutoring', 'Extracurricular', 'Sports', 'Music', 'Volunteering', 'GPA', 'Ethnicity_0', 'Ethnicity_1', 'Ethnicity_2', 'Ethnicity_3', 'ParentalEducation_0', 'ParentalEducation_1', 'ParentalEducation_2', 'ParentalEducation_3', 'ParentalEducation_4', 'ParentalSupport_0', 'ParentalSupport_1', 'ParentalSupport_2', 'ParentalSupport_3', 'ParentalSupport_4']\n"
     ]
    }
   ],
   "source": [
    "# Feature Engineering and Data Preprocessing\n",
    "# This script performs feature engineering and data preprocessing on a dataset of student performance.\n",
    "import numpy as np\n",
    "import pandas as pd\n",
    "from sklearn.preprocessing import StandardScaler\n",
    "from sklearn.metrics import classification_report, confusion_matrix\n",
    "\n",
    "df = pd.read_csv('../artifacts/Student_performance_data.csv')\n",
    "\n",
    "df = pd.get_dummies(df, columns=['Ethnicity', 'ParentalEducation', 'ParentalSupport'])\n",
    "\n",
    "scaler = StandardScaler()\n",
    "num_features = ['Age', 'StudyTimeWeekly', 'Absences', 'GPA']\n",
    "features = df.drop(columns=[\"StudentID\", \"GradeClass\"], axis=1)\n",
    "\n",
    "features[num_features] = scaler.fit_transform(features[num_features])\n",
    "print(\"Total number of input features:\", len(features))\n",
    "print(\"The model input features:\\n\")\n",
    "\n",
    "print(list(features))\n",
    "\n",
    "import pickle\n",
    "\n",
    "# Save the scaler\n",
    "with open(\"../src/scaler.pkl\", \"wb\") as f:\n",
    "    pickle.dump(scaler, f)\n",
    "\n",
    "# Save the final list of input features\n",
    "with open(\"../src/features.pkl\", \"wb\") as f:\n",
    "    pickle.dump(features.columns.tolist(), f)\n"
   ]
  },
  {
   "cell_type": "code",
   "execution_count": 10,
   "id": "c2bf2b89",
   "metadata": {},
   "outputs": [
    {
     "name": "stdout",
     "output_type": "stream",
     "text": [
      "Index(['StudentID', 'Age', 'Gender', 'StudyTimeWeekly', 'Absences', 'Tutoring',\n",
      "       'Extracurricular', 'Sports', 'Music', 'Volunteering', 'GPA',\n",
      "       'GradeClass', 'Ethnicity_0', 'Ethnicity_1', 'Ethnicity_2',\n",
      "       'Ethnicity_3', 'ParentalEducation_0', 'ParentalEducation_1',\n",
      "       'ParentalEducation_2', 'ParentalEducation_3', 'ParentalEducation_4',\n",
      "       'ParentalSupport_0', 'ParentalSupport_1', 'ParentalSupport_2',\n",
      "       'ParentalSupport_3', 'ParentalSupport_4'],\n",
      "      dtype='object')\n",
      "(2392, 26)\n"
     ]
    }
   ],
   "source": [
    "print(df.columns)\n",
    "print(df.shape)\n",
    "\n"
   ]
  },
  {
   "cell_type": "code",
   "execution_count": 11,
   "id": "009c2f11",
   "metadata": {},
   "outputs": [
    {
     "name": "stdout",
     "output_type": "stream",
     "text": [
      "(2392, 26)\n",
      "<class 'pandas.core.frame.DataFrame'>\n",
      "RangeIndex: 2392 entries, 0 to 2391\n",
      "Data columns (total 26 columns):\n",
      " #   Column               Non-Null Count  Dtype  \n",
      "---  ------               --------------  -----  \n",
      " 0   StudentID            2392 non-null   int64  \n",
      " 1   Age                  2392 non-null   int64  \n",
      " 2   Gender               2392 non-null   int64  \n",
      " 3   StudyTimeWeekly      2392 non-null   float64\n",
      " 4   Absences             2392 non-null   int64  \n",
      " 5   Tutoring             2392 non-null   int64  \n",
      " 6   Extracurricular      2392 non-null   int64  \n",
      " 7   Sports               2392 non-null   int64  \n",
      " 8   Music                2392 non-null   int64  \n",
      " 9   Volunteering         2392 non-null   int64  \n",
      " 10  GPA                  2392 non-null   float64\n",
      " 11  GradeClass           2392 non-null   float64\n",
      " 12  Ethnicity_0          2392 non-null   bool   \n",
      " 13  Ethnicity_1          2392 non-null   bool   \n",
      " 14  Ethnicity_2          2392 non-null   bool   \n",
      " 15  Ethnicity_3          2392 non-null   bool   \n",
      " 16  ParentalEducation_0  2392 non-null   bool   \n",
      " 17  ParentalEducation_1  2392 non-null   bool   \n",
      " 18  ParentalEducation_2  2392 non-null   bool   \n",
      " 19  ParentalEducation_3  2392 non-null   bool   \n",
      " 20  ParentalEducation_4  2392 non-null   bool   \n",
      " 21  ParentalSupport_0    2392 non-null   bool   \n",
      " 22  ParentalSupport_1    2392 non-null   bool   \n",
      " 23  ParentalSupport_2    2392 non-null   bool   \n",
      " 24  ParentalSupport_3    2392 non-null   bool   \n",
      " 25  ParentalSupport_4    2392 non-null   bool   \n",
      "dtypes: bool(14), float64(3), int64(9)\n",
      "memory usage: 257.1 KB\n"
     ]
    }
   ],
   "source": [
    "print(df.shape)\n",
    "df.info()"
   ]
  },
  {
   "cell_type": "code",
   "execution_count": 12,
   "id": "d007e959",
   "metadata": {},
   "outputs": [],
   "source": [
    "from sklearn.model_selection import train_test_split\n",
    "y = df['GradeClass']\n",
    "X_train, X_test, y_train, y_test = train_test_split(features, y, test_size=0.2, random_state=42, stratify=y)"
   ]
  },
  {
   "cell_type": "code",
   "execution_count": 13,
   "id": "8823ddd6",
   "metadata": {},
   "outputs": [
    {
     "name": "stdout",
     "output_type": "stream",
     "text": [
      "Logistic Regression:\n",
      "               precision    recall  f1-score   support\n",
      "\n",
      "         0.0       0.33      0.24      0.28        21\n",
      "         1.0       0.55      0.39      0.46        54\n",
      "         2.0       0.54      0.71      0.61        78\n",
      "         3.0       0.75      0.57      0.64        83\n",
      "         4.0       0.90      0.98      0.94       243\n",
      "\n",
      "    accuracy                           0.76       479\n",
      "   macro avg       0.62      0.57      0.59       479\n",
      "weighted avg       0.75      0.76      0.75       479\n",
      "\n"
     ]
    }
   ],
   "source": [
    "#Logistic regression\n",
    "from sklearn.linear_model import LogisticRegression\n",
    "from sklearn.metrics import classification_report\n",
    "\n",
    "lr = LogisticRegression(max_iter=20000, random_state=42)\n",
    "lr.fit(X_train, y_train)\n",
    "y_pred_lr = lr.predict(X_test)\n",
    "print(\"Logistic Regression:\\n\", classification_report(y_test, y_pred_lr))\n"
   ]
  },
  {
   "cell_type": "code",
   "execution_count": 14,
   "id": "d22d6522",
   "metadata": {},
   "outputs": [
    {
     "name": "stdout",
     "output_type": "stream",
     "text": [
      "Random Forest:\n",
      "               precision    recall  f1-score   support\n",
      "\n",
      "         0.0       1.00      0.29      0.44        21\n",
      "         1.0       0.82      0.85      0.84        54\n",
      "         2.0       0.89      0.92      0.91        78\n",
      "         3.0       0.87      0.89      0.88        83\n",
      "         4.0       0.94      0.97      0.96       243\n",
      "\n",
      "    accuracy                           0.91       479\n",
      "   macro avg       0.90      0.78      0.80       479\n",
      "weighted avg       0.91      0.91      0.90       479\n",
      "\n"
     ]
    }
   ],
   "source": [
    "#Random Forest\n",
    "from sklearn.ensemble import RandomForestClassifier\n",
    "\n",
    "rf = RandomForestClassifier(n_estimators=100, random_state=42)\n",
    "rf.fit(X_train, y_train)\n",
    "y_pred_rf = rf.predict(X_test)\n",
    "print(\"Random Forest:\\n\", classification_report(y_test, y_pred_rf))\n"
   ]
  },
  {
   "cell_type": "code",
   "execution_count": 15,
   "id": "d81cdcdc",
   "metadata": {},
   "outputs": [
    {
     "name": "stdout",
     "output_type": "stream",
     "text": [
      "XGBoost:\n",
      "               precision    recall  f1-score   support\n",
      "\n",
      "         0.0       1.00      0.43      0.60        21\n",
      "         1.0       0.89      0.91      0.90        54\n",
      "         2.0       0.93      0.95      0.94        78\n",
      "         3.0       0.88      0.86      0.87        83\n",
      "         4.0       0.93      0.97      0.95       243\n",
      "\n",
      "    accuracy                           0.92       479\n",
      "   macro avg       0.92      0.82      0.85       479\n",
      "weighted avg       0.92      0.92      0.91       479\n",
      "\n"
     ]
    }
   ],
   "source": [
    "#XGBoost\n",
    "from xgboost import XGBClassifier\n",
    "\n",
    "xgb = XGBClassifier(eval_metric='mlogloss')\n",
    "xgb.fit(X_train, y_train)\n",
    "y_pred_xgb = xgb.predict(X_test)\n",
    "print(\"XGBoost:\\n\", classification_report(y_test, y_pred_xgb))\n"
   ]
  },
  {
   "cell_type": "code",
   "execution_count": 16,
   "id": "36ccd8cb",
   "metadata": {},
   "outputs": [],
   "source": [
    "#Step 10: Deep Learning Model\n",
    "from tensorflow.keras.models import Sequential\n",
    "from tensorflow.keras.layers import Dense\n",
    "from tensorflow.keras.utils import to_categorical\n"
   ]
  },
  {
   "cell_type": "code",
   "execution_count": 17,
   "id": "c3862d95",
   "metadata": {},
   "outputs": [
    {
     "name": "stderr",
     "output_type": "stream",
     "text": [
      "c:\\Users\\reina\\anaconda3\\Lib\\site-packages\\keras\\src\\layers\\core\\dense.py:87: UserWarning: Do not pass an `input_shape`/`input_dim` argument to a layer. When using Sequential models, prefer using an `Input(shape)` object as the first layer in the model instead.\n",
      "  super().__init__(activity_regularizer=activity_regularizer, **kwargs)\n"
     ]
    },
    {
     "name": "stdout",
     "output_type": "stream",
     "text": [
      "Epoch 1/50\n",
      "\u001b[1m60/60\u001b[0m \u001b[32m━━━━━━━━━━━━━━━━━━━━\u001b[0m\u001b[37m\u001b[0m \u001b[1m2s\u001b[0m 12ms/step - accuracy: 0.4667 - loss: 1.3633 - val_accuracy: 0.5971 - val_loss: 0.9938\n",
      "Epoch 2/50\n",
      "\u001b[1m60/60\u001b[0m \u001b[32m━━━━━━━━━━━━━━━━━━━━\u001b[0m\u001b[37m\u001b[0m \u001b[1m0s\u001b[0m 5ms/step - accuracy: 0.6285 - loss: 0.9256 - val_accuracy: 0.7411 - val_loss: 0.8365\n",
      "Epoch 3/50\n",
      "\u001b[1m60/60\u001b[0m \u001b[32m━━━━━━━━━━━━━━━━━━━━\u001b[0m\u001b[37m\u001b[0m \u001b[1m0s\u001b[0m 5ms/step - accuracy: 0.7104 - loss: 0.8313 - val_accuracy: 0.7641 - val_loss: 0.7710\n",
      "Epoch 4/50\n",
      "\u001b[1m60/60\u001b[0m \u001b[32m━━━━━━━━━━━━━━━━━━━━\u001b[0m\u001b[37m\u001b[0m \u001b[1m0s\u001b[0m 5ms/step - accuracy: 0.7695 - loss: 0.7884 - val_accuracy: 0.8184 - val_loss: 0.7297\n",
      "Epoch 5/50\n",
      "\u001b[1m60/60\u001b[0m \u001b[32m━━━━━━━━━━━━━━━━━━━━\u001b[0m\u001b[37m\u001b[0m \u001b[1m0s\u001b[0m 5ms/step - accuracy: 0.8092 - loss: 0.7066 - val_accuracy: 0.8205 - val_loss: 0.7098\n",
      "Epoch 6/50\n",
      "\u001b[1m60/60\u001b[0m \u001b[32m━━━━━━━━━━━━━━━━━━━━\u001b[0m\u001b[37m\u001b[0m \u001b[1m0s\u001b[0m 5ms/step - accuracy: 0.8133 - loss: 0.7047 - val_accuracy: 0.8267 - val_loss: 0.6903\n",
      "Epoch 7/50\n",
      "\u001b[1m60/60\u001b[0m \u001b[32m━━━━━━━━━━━━━━━━━━━━\u001b[0m\u001b[37m\u001b[0m \u001b[1m0s\u001b[0m 5ms/step - accuracy: 0.8260 - loss: 0.6497 - val_accuracy: 0.8309 - val_loss: 0.6643\n",
      "Epoch 8/50\n",
      "\u001b[1m60/60\u001b[0m \u001b[32m━━━━━━━━━━━━━━━━━━━━\u001b[0m\u001b[37m\u001b[0m \u001b[1m0s\u001b[0m 5ms/step - accuracy: 0.8397 - loss: 0.6083 - val_accuracy: 0.8038 - val_loss: 0.6654\n",
      "Epoch 9/50\n",
      "\u001b[1m60/60\u001b[0m \u001b[32m━━━━━━━━━━━━━━━━━━━━\u001b[0m\u001b[37m\u001b[0m \u001b[1m0s\u001b[0m 5ms/step - accuracy: 0.8259 - loss: 0.6267 - val_accuracy: 0.8518 - val_loss: 0.6375\n",
      "Epoch 10/50\n",
      "\u001b[1m60/60\u001b[0m \u001b[32m━━━━━━━━━━━━━━━━━━━━\u001b[0m\u001b[37m\u001b[0m \u001b[1m0s\u001b[0m 5ms/step - accuracy: 0.8494 - loss: 0.5596 - val_accuracy: 0.8455 - val_loss: 0.6239\n",
      "Epoch 11/50\n",
      "\u001b[1m60/60\u001b[0m \u001b[32m━━━━━━━━━━━━━━━━━━━━\u001b[0m\u001b[37m\u001b[0m \u001b[1m0s\u001b[0m 6ms/step - accuracy: 0.8621 - loss: 0.5363 - val_accuracy: 0.8434 - val_loss: 0.6217\n",
      "Epoch 12/50\n",
      "\u001b[1m60/60\u001b[0m \u001b[32m━━━━━━━━━━━━━━━━━━━━\u001b[0m\u001b[37m\u001b[0m \u001b[1m1s\u001b[0m 10ms/step - accuracy: 0.8625 - loss: 0.5298 - val_accuracy: 0.8309 - val_loss: 0.6206\n",
      "Epoch 13/50\n",
      "\u001b[1m60/60\u001b[0m \u001b[32m━━━━━━━━━━━━━━━━━━━━\u001b[0m\u001b[37m\u001b[0m \u001b[1m0s\u001b[0m 7ms/step - accuracy: 0.8730 - loss: 0.5196 - val_accuracy: 0.8622 - val_loss: 0.6099\n",
      "Epoch 14/50\n",
      "\u001b[1m60/60\u001b[0m \u001b[32m━━━━━━━━━━━━━━━━━━━━\u001b[0m\u001b[37m\u001b[0m \u001b[1m1s\u001b[0m 9ms/step - accuracy: 0.8679 - loss: 0.5427 - val_accuracy: 0.8559 - val_loss: 0.6044\n",
      "Epoch 15/50\n",
      "\u001b[1m60/60\u001b[0m \u001b[32m━━━━━━━━━━━━━━━━━━━━\u001b[0m\u001b[37m\u001b[0m \u001b[1m0s\u001b[0m 7ms/step - accuracy: 0.8694 - loss: 0.4997 - val_accuracy: 0.8559 - val_loss: 0.6037\n",
      "Epoch 16/50\n",
      "\u001b[1m60/60\u001b[0m \u001b[32m━━━━━━━━━━━━━━━━━━━━\u001b[0m\u001b[37m\u001b[0m \u001b[1m0s\u001b[0m 6ms/step - accuracy: 0.8948 - loss: 0.4637 - val_accuracy: 0.8184 - val_loss: 0.6161\n",
      "Epoch 17/50\n",
      "\u001b[1m60/60\u001b[0m \u001b[32m━━━━━━━━━━━━━━━━━━━━\u001b[0m\u001b[37m\u001b[0m \u001b[1m1s\u001b[0m 8ms/step - accuracy: 0.8892 - loss: 0.4412 - val_accuracy: 0.8434 - val_loss: 0.5908\n",
      "Epoch 18/50\n",
      "\u001b[1m60/60\u001b[0m \u001b[32m━━━━━━━━━━━━━━━━━━━━\u001b[0m\u001b[37m\u001b[0m \u001b[1m1s\u001b[0m 6ms/step - accuracy: 0.8861 - loss: 0.4693 - val_accuracy: 0.8622 - val_loss: 0.5846\n",
      "Epoch 19/50\n",
      "\u001b[1m60/60\u001b[0m \u001b[32m━━━━━━━━━━━━━━━━━━━━\u001b[0m\u001b[37m\u001b[0m \u001b[1m0s\u001b[0m 4ms/step - accuracy: 0.8843 - loss: 0.4830 - val_accuracy: 0.8643 - val_loss: 0.5932\n",
      "Epoch 20/50\n",
      "\u001b[1m60/60\u001b[0m \u001b[32m━━━━━━━━━━━━━━━━━━━━\u001b[0m\u001b[37m\u001b[0m \u001b[1m0s\u001b[0m 5ms/step - accuracy: 0.9074 - loss: 0.4227 - val_accuracy: 0.8706 - val_loss: 0.5743\n",
      "Epoch 21/50\n",
      "\u001b[1m60/60\u001b[0m \u001b[32m━━━━━━━━━━━━━━━━━━━━\u001b[0m\u001b[37m\u001b[0m \u001b[1m0s\u001b[0m 6ms/step - accuracy: 0.8876 - loss: 0.4493 - val_accuracy: 0.8643 - val_loss: 0.5748\n",
      "Epoch 22/50\n",
      "\u001b[1m60/60\u001b[0m \u001b[32m━━━━━━━━━━━━━━━━━━━━\u001b[0m\u001b[37m\u001b[0m \u001b[1m0s\u001b[0m 7ms/step - accuracy: 0.9061 - loss: 0.4081 - val_accuracy: 0.8664 - val_loss: 0.5820\n",
      "Epoch 23/50\n",
      "\u001b[1m60/60\u001b[0m \u001b[32m━━━━━━━━━━━━━━━━━━━━\u001b[0m\u001b[37m\u001b[0m \u001b[1m0s\u001b[0m 5ms/step - accuracy: 0.9048 - loss: 0.4304 - val_accuracy: 0.8559 - val_loss: 0.5752\n",
      "Epoch 24/50\n",
      "\u001b[1m60/60\u001b[0m \u001b[32m━━━━━━━━━━━━━━━━━━━━\u001b[0m\u001b[37m\u001b[0m \u001b[1m0s\u001b[0m 5ms/step - accuracy: 0.9169 - loss: 0.3843 - val_accuracy: 0.8559 - val_loss: 0.5737\n",
      "Epoch 25/50\n",
      "\u001b[1m60/60\u001b[0m \u001b[32m━━━━━━━━━━━━━━━━━━━━\u001b[0m\u001b[37m\u001b[0m \u001b[1m0s\u001b[0m 5ms/step - accuracy: 0.9067 - loss: 0.3838 - val_accuracy: 0.8643 - val_loss: 0.5670\n",
      "Epoch 26/50\n",
      "\u001b[1m60/60\u001b[0m \u001b[32m━━━━━━━━━━━━━━━━━━━━\u001b[0m\u001b[37m\u001b[0m \u001b[1m0s\u001b[0m 7ms/step - accuracy: 0.9047 - loss: 0.3937 - val_accuracy: 0.8559 - val_loss: 0.5693\n",
      "Epoch 27/50\n",
      "\u001b[1m60/60\u001b[0m \u001b[32m━━━━━━━━━━━━━━━━━━━━\u001b[0m\u001b[37m\u001b[0m \u001b[1m1s\u001b[0m 8ms/step - accuracy: 0.9142 - loss: 0.3746 - val_accuracy: 0.8643 - val_loss: 0.5650\n",
      "Epoch 28/50\n",
      "\u001b[1m60/60\u001b[0m \u001b[32m━━━━━━━━━━━━━━━━━━━━\u001b[0m\u001b[37m\u001b[0m \u001b[1m1s\u001b[0m 10ms/step - accuracy: 0.9138 - loss: 0.3708 - val_accuracy: 0.8685 - val_loss: 0.5585\n",
      "Epoch 29/50\n",
      "\u001b[1m60/60\u001b[0m \u001b[32m━━━━━━━━━━━━━━━━━━━━\u001b[0m\u001b[37m\u001b[0m \u001b[1m0s\u001b[0m 5ms/step - accuracy: 0.9137 - loss: 0.3734 - val_accuracy: 0.8601 - val_loss: 0.5567\n",
      "Epoch 30/50\n",
      "\u001b[1m60/60\u001b[0m \u001b[32m━━━━━━━━━━━━━━━━━━━━\u001b[0m\u001b[37m\u001b[0m \u001b[1m0s\u001b[0m 6ms/step - accuracy: 0.9165 - loss: 0.3515 - val_accuracy: 0.8664 - val_loss: 0.5623\n",
      "Epoch 31/50\n",
      "\u001b[1m60/60\u001b[0m \u001b[32m━━━━━━━━━━━━━━━━━━━━\u001b[0m\u001b[37m\u001b[0m \u001b[1m1s\u001b[0m 7ms/step - accuracy: 0.9086 - loss: 0.3862 - val_accuracy: 0.8539 - val_loss: 0.5595\n",
      "Epoch 32/50\n",
      "\u001b[1m60/60\u001b[0m \u001b[32m━━━━━━━━━━━━━━━━━━━━\u001b[0m\u001b[37m\u001b[0m \u001b[1m0s\u001b[0m 5ms/step - accuracy: 0.9193 - loss: 0.3477 - val_accuracy: 0.8664 - val_loss: 0.5657\n",
      "Epoch 33/50\n",
      "\u001b[1m60/60\u001b[0m \u001b[32m━━━━━━━━━━━━━━━━━━━━\u001b[0m\u001b[37m\u001b[0m \u001b[1m0s\u001b[0m 5ms/step - accuracy: 0.9142 - loss: 0.3665 - val_accuracy: 0.8664 - val_loss: 0.5579\n",
      "Epoch 34/50\n",
      "\u001b[1m60/60\u001b[0m \u001b[32m━━━━━━━━━━━━━━━━━━━━\u001b[0m\u001b[37m\u001b[0m \u001b[1m0s\u001b[0m 8ms/step - accuracy: 0.9333 - loss: 0.3108 - val_accuracy: 0.8706 - val_loss: 0.5503\n",
      "Epoch 35/50\n",
      "\u001b[1m60/60\u001b[0m \u001b[32m━━━━━━━━━━━━━━━━━━━━\u001b[0m\u001b[37m\u001b[0m \u001b[1m0s\u001b[0m 5ms/step - accuracy: 0.9224 - loss: 0.3240 - val_accuracy: 0.8664 - val_loss: 0.5597\n",
      "Epoch 36/50\n",
      "\u001b[1m60/60\u001b[0m \u001b[32m━━━━━━━━━━━━━━━━━━━━\u001b[0m\u001b[37m\u001b[0m \u001b[1m0s\u001b[0m 8ms/step - accuracy: 0.9267 - loss: 0.3285 - val_accuracy: 0.8643 - val_loss: 0.5606\n",
      "Epoch 37/50\n",
      "\u001b[1m60/60\u001b[0m \u001b[32m━━━━━━━━━━━━━━━━━━━━\u001b[0m\u001b[37m\u001b[0m \u001b[1m0s\u001b[0m 5ms/step - accuracy: 0.9146 - loss: 0.3258 - val_accuracy: 0.8706 - val_loss: 0.5571\n",
      "Epoch 38/50\n",
      "\u001b[1m60/60\u001b[0m \u001b[32m━━━━━━━━━━━━━━━━━━━━\u001b[0m\u001b[37m\u001b[0m \u001b[1m0s\u001b[0m 5ms/step - accuracy: 0.9242 - loss: 0.3193 - val_accuracy: 0.8539 - val_loss: 0.5764\n",
      "Epoch 39/50\n",
      "\u001b[1m60/60\u001b[0m \u001b[32m━━━━━━━━━━━━━━━━━━━━\u001b[0m\u001b[37m\u001b[0m \u001b[1m1s\u001b[0m 6ms/step - accuracy: 0.9205 - loss: 0.3325 - val_accuracy: 0.8643 - val_loss: 0.5544\n",
      "Epoch 40/50\n",
      "\u001b[1m60/60\u001b[0m \u001b[32m━━━━━━━━━━━━━━━━━━━━\u001b[0m\u001b[37m\u001b[0m \u001b[1m0s\u001b[0m 5ms/step - accuracy: 0.9277 - loss: 0.2972 - val_accuracy: 0.8706 - val_loss: 0.5642\n",
      "Epoch 41/50\n",
      "\u001b[1m60/60\u001b[0m \u001b[32m━━━━━━━━━━━━━━━━━━━━\u001b[0m\u001b[37m\u001b[0m \u001b[1m0s\u001b[0m 5ms/step - accuracy: 0.9225 - loss: 0.3173 - val_accuracy: 0.8622 - val_loss: 0.5610\n",
      "Epoch 42/50\n",
      "\u001b[1m60/60\u001b[0m \u001b[32m━━━━━━━━━━━━━━━━━━━━\u001b[0m\u001b[37m\u001b[0m \u001b[1m1s\u001b[0m 5ms/step - accuracy: 0.9226 - loss: 0.3155 - val_accuracy: 0.8622 - val_loss: 0.5690\n",
      "Epoch 43/50\n",
      "\u001b[1m60/60\u001b[0m \u001b[32m━━━━━━━━━━━━━━━━━━━━\u001b[0m\u001b[37m\u001b[0m \u001b[1m0s\u001b[0m 6ms/step - accuracy: 0.9192 - loss: 0.3097 - val_accuracy: 0.8580 - val_loss: 0.5681\n",
      "Epoch 44/50\n",
      "\u001b[1m60/60\u001b[0m \u001b[32m━━━━━━━━━━━━━━━━━━━━\u001b[0m\u001b[37m\u001b[0m \u001b[1m0s\u001b[0m 5ms/step - accuracy: 0.9230 - loss: 0.2829 - val_accuracy: 0.8601 - val_loss: 0.5769\n",
      "Epoch 45/50\n",
      "\u001b[1m60/60\u001b[0m \u001b[32m━━━━━━━━━━━━━━━━━━━━\u001b[0m\u001b[37m\u001b[0m \u001b[1m0s\u001b[0m 6ms/step - accuracy: 0.9328 - loss: 0.2734 - val_accuracy: 0.8685 - val_loss: 0.5763\n",
      "Epoch 46/50\n",
      "\u001b[1m60/60\u001b[0m \u001b[32m━━━━━━━━━━━━━━━━━━━━\u001b[0m\u001b[37m\u001b[0m \u001b[1m0s\u001b[0m 5ms/step - accuracy: 0.9292 - loss: 0.2909 - val_accuracy: 0.8580 - val_loss: 0.5642\n",
      "Epoch 47/50\n",
      "\u001b[1m60/60\u001b[0m \u001b[32m━━━━━━━━━━━━━━━━━━━━\u001b[0m\u001b[37m\u001b[0m \u001b[1m0s\u001b[0m 5ms/step - accuracy: 0.9299 - loss: 0.2830 - val_accuracy: 0.8622 - val_loss: 0.5875\n",
      "Epoch 48/50\n",
      "\u001b[1m60/60\u001b[0m \u001b[32m━━━━━━━━━━━━━━━━━━━━\u001b[0m\u001b[37m\u001b[0m \u001b[1m0s\u001b[0m 5ms/step - accuracy: 0.9280 - loss: 0.2652 - val_accuracy: 0.8601 - val_loss: 0.5879\n",
      "Epoch 49/50\n",
      "\u001b[1m60/60\u001b[0m \u001b[32m━━━━━━━━━━━━━━━━━━━━\u001b[0m\u001b[37m\u001b[0m \u001b[1m0s\u001b[0m 5ms/step - accuracy: 0.9366 - loss: 0.2590 - val_accuracy: 0.8622 - val_loss: 0.5759\n",
      "Epoch 50/50\n",
      "\u001b[1m60/60\u001b[0m \u001b[32m━━━━━━━━━━━━━━━━━━━━\u001b[0m\u001b[37m\u001b[0m \u001b[1m1s\u001b[0m 5ms/step - accuracy: 0.9350 - loss: 0.2634 - val_accuracy: 0.8664 - val_loss: 0.5758\n",
      "\u001b[1m15/15\u001b[0m \u001b[32m━━━━━━━━━━━━━━━━━━━━\u001b[0m\u001b[37m\u001b[0m \u001b[1m0s\u001b[0m 5ms/step - accuracy: 0.8482 - loss: 0.6670 \n",
      "Test Accuracy: 0.8663883209228516\n",
      "\u001b[1m15/15\u001b[0m \u001b[32m━━━━━━━━━━━━━━━━━━━━\u001b[0m\u001b[37m\u001b[0m \u001b[1m0s\u001b[0m 7ms/step\n",
      "              precision    recall  f1-score   support\n",
      "\n",
      "         0.0       0.75      0.29      0.41        21\n",
      "         1.0       0.73      0.85      0.79        54\n",
      "         2.0       0.85      0.82      0.84        78\n",
      "         3.0       0.81      0.78      0.80        83\n",
      "         4.0       0.92      0.96      0.94       243\n",
      "\n",
      "    accuracy                           0.87       479\n",
      "   macro avg       0.81      0.74      0.76       479\n",
      "weighted avg       0.86      0.87      0.86       479\n",
      "\n",
      "[[  6   5   3   2   5]\n",
      " [  2  46   2   2   2]\n",
      " [  0   7  64   6   1]\n",
      " [  0   2   5  65  11]\n",
      " [  0   3   1   5 234]]\n"
     ]
    }
   ],
   "source": [
    "y_train_dl = to_categorical(y_train)\n",
    "y_test_dl = to_categorical(y_test)\n",
    "model = Sequential()\n",
    "model.add(Dense(64, input_dim=X_train.shape[1], activation='relu'))\n",
    "model.add(Dense(32, activation='relu'))\n",
    "model.add(Dense(5, activation='softmax'))\n",
    "\n",
    "model.compile(loss='categorical_crossentropy', optimizer='adam', metrics=['accuracy'])\n",
    "\n",
    "model.fit(X_train, y_train_dl, epochs=50, batch_size=32, validation_data=(X_test, y_test_dl))\n",
    "\n",
    "loss, accuracy = model.evaluate(X_test, y_test_dl)\n",
    "print(\"Test Accuracy:\", accuracy)\n",
    "\n",
    "y_pred_dl = model.predict(X_test)\n",
    "y_pred_classes = np.argmax(y_pred_dl, axis=1)\n",
    "\n",
    "\n",
    "print(classification_report(y_test, y_pred_classes))\n",
    "print(confusion_matrix(y_test, y_pred_classes))\n"
   ]
  },
  {
   "cell_type": "code",
   "execution_count": 18,
   "id": "27970dd2",
   "metadata": {},
   "outputs": [
    {
     "name": "stderr",
     "output_type": "stream",
     "text": [
      "WARNING:absl:You are saving your model as an HDF5 file via `model.save()` or `keras.saving.save_model(model)`. This file format is considered legacy. We recommend using instead the native Keras format, e.g. `model.save('my_model.keras')` or `keras.saving.save_model(model, 'my_model.keras')`. \n"
     ]
    }
   ],
   "source": [
    "import pickle\n",
    "import keras\n",
    "\n",
    "# Logistic Regression\n",
    "with open(\"../src/logistic_regression_model.pkl\", \"wb\") as file:\n",
    "    pickle.dump(lr, file)\n",
    "\n",
    "# Random Forest\n",
    "with open(\"../src/random_forest_model.pkl\", \"wb\") as file:\n",
    "    pickle.dump(rf, file)\n",
    "\n",
    "# XGBoost\n",
    "with open(\"../src/xgboost_model.pkl\", \"wb\") as file:\n",
    "    pickle.dump(xgb, file)\n",
    "\n",
    "# Save the deep model to a file\n",
    "keras.models.save_model(model, \"../src/deep_learning_model.h5\")\n"
   ]
  }
 ],
 "metadata": {
  "kernelspec": {
   "display_name": "base",
   "language": "python",
   "name": "python3"
  },
  "language_info": {
   "codemirror_mode": {
    "name": "ipython",
    "version": 3
   },
   "file_extension": ".py",
   "mimetype": "text/x-python",
   "name": "python",
   "nbconvert_exporter": "python",
   "pygments_lexer": "ipython3",
   "version": "3.12.7"
  }
 },
 "nbformat": 4,
 "nbformat_minor": 5
}
