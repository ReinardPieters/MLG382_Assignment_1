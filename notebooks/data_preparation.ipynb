{
 "cells": [
  {
   "cell_type": "code",
   "execution_count": 11,
   "id": "15664228",
   "metadata": {},
   "outputs": [
    {
     "name": "stdout",
     "output_type": "stream",
     "text": [
      "Missing values per column:\n",
      " Age                  0\n",
      "Gender               0\n",
      "Ethnicity            0\n",
      "ParentalEducation    0\n",
      "StudyTimeWeekly      0\n",
      "Absences             0\n",
      "Tutoring             0\n",
      "ParentalSupport      0\n",
      "Extracurricular      0\n",
      "Sports               0\n",
      "Music                0\n",
      "Volunteering         0\n",
      "GradeClass           0\n",
      "dtype: int64\n"
     ]
    }
   ],
   "source": [
    "import pandas as pd\n",
    "import matplotlib.pyplot as plt\n",
    "import seaborn as sns\n",
    "from sklearn.preprocessing import StandardScaler\n",
    "import pickle\n",
    "\n",
    "# Load the dataset\n",
    "df = pd.read_csv('../artifacts/Student_performance_data.csv')\n",
    "df.drop('StudentID', axis=1, inplace=True)\n",
    "df.drop('GPA', axis=1, inplace=True)\n",
    "#df.drop('GradeClass', axis=1, inplace=True)\n",
    "\n",
    "# Check missing values\n",
    "missing_values = df.isnull().sum()\n",
    "print(\"Missing values per column:\\n\", missing_values)"
   ]
  },
  {
   "cell_type": "code",
   "execution_count": 12,
   "id": "039ab7c8",
   "metadata": {},
   "outputs": [
    {
     "name": "stdout",
     "output_type": "stream",
     "text": [
      "No missing values found in numerical columns.\n",
      "No missing values found in ordinal columns.\n",
      "No missing values found in nominal columns.\n"
     ]
    }
   ],
   "source": [
    "from sklearn.impute import SimpleImputer\n",
    "\n",
    "# Define column groups\n",
    "ordinal_cols = ['ParentalSupport', 'ParentalEducation']\n",
    "nominal_cols = ['Gender', 'Ethnicity', 'Tutoring', 'Extracurricular', 'Sports', 'Music', 'Volunteering']\n",
    "num_cols = ['StudyTimeWeekly', 'Absences', 'Age']\n",
    "\n",
    "# Filter only columns with missing values\n",
    "ordinal_missing = [col for col in ordinal_cols if df[col].isnull().any()]\n",
    "nominal_missing = [col for col in nominal_cols if df[col].isnull().any()]\n",
    "num_missing = [col for col in num_cols if df[col].isnull().any()]\n",
    "\n",
    "# Impute Numerical (mean)\n",
    "if num_missing:\n",
    "    imputer = SimpleImputer(strategy='mean')\n",
    "    df[num_missing] = imputer.fit_transform(df[num_missing])\n",
    "    print(f\"Mean imputation applied to numerical columns: {num_missing}\")\n",
    "else:\n",
    "    print(\"No missing values found in numerical columns.\")\n",
    "\n",
    "# Impute Ordinal (mean)\n",
    "if ordinal_missing:\n",
    "    mean_imputer = SimpleImputer(strategy='mean')\n",
    "    df[ordinal_missing] = mean_imputer.fit_transform(df[ordinal_missing])\n",
    "    print(f\"Mean imputation applied to ordinal columns: {ordinal_missing}\")\n",
    "else:\n",
    "    print(\"No missing values found in ordinal columns.\")\n",
    "\n",
    "# Impute Nominal (mode)\n",
    "if nominal_missing:\n",
    "    mode_imputer = SimpleImputer(strategy='most_frequent')\n",
    "    df[nominal_missing] = mode_imputer.fit_transform(df[nominal_missing])\n",
    "    print(f\"Mode imputation applied to nominal columns: {nominal_missing}\")\n",
    "else:\n",
    "    print(\"No missing values found in nominal columns.\")\n",
    "\n",
    "\n"
   ]
  },
  {
   "cell_type": "code",
   "execution_count": 13,
   "id": "e6501b5e",
   "metadata": {},
   "outputs": [
    {
     "data": {
      "image/png": "[encoded data removed]",
      "text/plain": [
       "<Figure size 1000x600 with 1 Axes>"
      ]
     },
     "metadata": {},
     "output_type": "display_data"
    }
   ],
   "source": [
    "melted_df = df.melt(value_vars=num_cols)\n",
    "plt.figure(figsize=(10, 6))\n",
    "sns.boxplot(data=melted_df, x='value', y='variable', orient='h')\n",
    "plt.title('Box Plot: Numerical Features (Seaborn)')\n",
    "plt.show()\n"
   ]
  },
  {
   "cell_type": "code",
   "execution_count": 14,
   "id": "7b943ee3",
   "metadata": {},
   "outputs": [
    {
     "name": "stdout",
     "output_type": "stream",
     "text": [
      "No outliers found in 'StudyTimeWeekly'.\n",
      "No outliers found in 'Absences'.\n",
      "No outliers found in 'Age'.\n",
      "\n",
      "Total rows removed: 0\n",
      "Final dataset size: 2392 rows\n",
      "\n"
     ]
    }
   ],
   "source": [
    "def remove_outliers_iqr(df, columns):\n",
    "    original_shape = df.shape[0]  # Total rows before removal\n",
    "    for col in columns:\n",
    "        Q1 = df[col].quantile(0.25)\n",
    "        Q3 = df[col].quantile(0.75)\n",
    "        IQR = Q3 - Q1\n",
    "        lower_bound = Q1 - 1.5 * IQR\n",
    "        upper_bound = Q3 + 1.5 * IQR\n",
    "\n",
    "        before_count = df.shape[0]\n",
    "        df = df[(df[col] >= lower_bound) & (df[col] <= upper_bound)]\n",
    "        after_count = df.shape[0]\n",
    "        removed = before_count - after_count\n",
    "\n",
    "        if removed > 0:\n",
    "            print(f\"{removed} outlier(s) removed from '{col}'.\")\n",
    "        else:\n",
    "            print(f\"No outliers found in '{col}'.\")\n",
    "    \n",
    "    final_count = df.shape[0]\n",
    "    print(f\"\\nTotal rows removed: {original_shape - final_count}\")\n",
    "    print(f\"Final dataset size: {df.shape[0]} rows\\n\")\n",
    "    \n",
    "    return df\n",
    "\n",
    "\n",
    "df_clean = remove_outliers_iqr(df, num_cols)\n",
    "\n",
    "with open(\"../artifacts/cleaned_data.csv\", \"w\") as f:\n",
    "    df_clean.to_csv(f, index=False)"
   ]
  },
  {
   "cell_type": "code",
   "execution_count": 15,
   "id": "da8204ec",
   "metadata": {},
   "outputs": [
    {
     "data": {
      "text/plain": [
       "<bound method NDFrame.describe of       Age  Gender  Ethnicity  ParentalEducation  StudyTimeWeekly  Absences  \\\n",
       "0      17       1          0                  2        19.833723         7   \n",
       "1      18       0          0                  1        15.408756         0   \n",
       "2      15       0          2                  3         4.210570        26   \n",
       "3      17       1          0                  3        10.028829        14   \n",
       "4      17       1          0                  2         4.672495        17   \n",
       "...   ...     ...        ...                ...              ...       ...   \n",
       "2387   18       1          0                  3        10.680555         2   \n",
       "2388   17       0          0                  1         7.583217         4   \n",
       "2389   16       1          0                  2         6.805500        20   \n",
       "2390   16       1          1                  0        12.416653        17   \n",
       "2391   16       1          0                  2        17.819907        13   \n",
       "\n",
       "      Tutoring  ParentalSupport  Extracurricular  Sports  Music  Volunteering  \\\n",
       "0            1                2                0       0      1             0   \n",
       "1            0                1                0       0      0             0   \n",
       "2            0                2                0       0      0             0   \n",
       "3            0                3                1       0      0             0   \n",
       "4            1                3                0       0      0             0   \n",
       "...        ...              ...              ...     ...    ...           ...   \n",
       "2387         0                4                1       0      0             0   \n",
       "2388         1                4                0       1      0             0   \n",
       "2389         0                2                0       0      0             1   \n",
       "2390         0                2                0       1      1             0   \n",
       "2391         0                2                0       0      0             1   \n",
       "\n",
       "      GradeClass  \n",
       "0            2.0  \n",
       "1            1.0  \n",
       "2            4.0  \n",
       "3            3.0  \n",
       "4            4.0  \n",
       "...          ...  \n",
       "2387         0.0  \n",
       "2388         4.0  \n",
       "2389         2.0  \n",
       "2390         1.0  \n",
       "2391         1.0  \n",
       "\n",
       "[2392 rows x 13 columns]>"
      ]
     },
     "execution_count": 15,
     "metadata": {},
     "output_type": "execute_result"
    }
   ],
   "source": [
    "df.describe"
   ]
  }
 ],
 "metadata": {
  "kernelspec": {
   "display_name": "base",
   "language": "python",
   "name": "python3"
  },
  "language_info": {
   "codemirror_mode": {
    "name": "ipython",
    "version": 3
   },
   "file_extension": ".py",
   "mimetype": "text/x-python",
   "name": "python",
   "nbconvert_exporter": "python",
   "pygments_lexer": "ipython3",
   "version": "3.12.7"
  }
 },
 "nbformat": 4,
 "nbformat_minor": 5
}
